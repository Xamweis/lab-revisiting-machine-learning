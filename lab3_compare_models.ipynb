{
 "cells": [
  {
   "cell_type": "code",
   "execution_count": 11,
   "metadata": {},
   "outputs": [],
   "source": [
    "import pandas as pd\n",
    "import numpy as np\n",
    "import matplotlib.pyplot as plt\n",
    "import seaborn as sns \n",
    "import warnings\n",
    "\n",
    "warnings.filterwarnings('ignore')\n",
    "pd.set_option('display.max_columns', None)"
   ]
  },
  {
   "cell_type": "code",
   "execution_count": 12,
   "metadata": {},
   "outputs": [],
   "source": [
    "from sklearn.preprocessing import MinMaxScaler\n",
    "from sklearn.preprocessing import OneHotEncoder\n",
    "from sklearn.model_selection import train_test_split\n",
    "\n",
    "# function to train-test-split data and treat it\n",
    "\n",
    "def split_and_treat_data(X, y, randomstate=0):\n",
    "    # splitting\n",
    "    X_train, X_test, y_train, y_test = train_test_split(X, y, random_state=randomstate)\n",
    "\n",
    "    # transforming numericals\n",
    "    transformer = MinMaxScaler().fit(X_train.select_dtypes(np.number))\n",
    "\n",
    "    cols_nums = X.select_dtypes(np.number).columns\n",
    "    \n",
    "    X_train_norm = pd.DataFrame(transformer.transform(X_train.select_dtypes(np.number)), columns=cols_nums)\n",
    "    X_test_norm = pd.DataFrame(transformer.transform(X_test.select_dtypes(np.number)), columns=cols_nums)\n",
    "\n",
    "    # encoding categoricals\n",
    "    encoder = OneHotEncoder(drop='first', handle_unknown='ignore').fit(pd.DataFrame(X_train.select_dtypes(object)))\n",
    "\n",
    "    encoded_train = encoder.transform(pd.DataFrame(X_train.select_dtypes(object))).toarray()\n",
    "    encoded_test = encoder.transform(pd.DataFrame(X_test.select_dtypes(object))).toarray()\n",
    "\n",
    "    cols_cats = encoder.get_feature_names_out(input_features=X_train.select_dtypes(object).columns)\n",
    "\n",
    "    onehot_encoded_cats_train = pd.DataFrame(encoded_train, columns=cols_cats).astype(object)\n",
    "    onehot_encoded_cats_test = pd.DataFrame(encoded_test, columns=cols_cats).astype(object)\n",
    "\n",
    "    # concat cats + nums back together\n",
    "    X_train_treated = pd.concat([X_train_norm, onehot_encoded_cats_train], axis=1)\n",
    "    X_test_treated = pd.concat([X_test_norm, onehot_encoded_cats_test], axis=1)\n",
    "\n",
    "    return X_train_treated.reset_index(drop=True), X_test_treated, y_train.reset_index(drop=True), y_test"
   ]
  },
  {
   "cell_type": "code",
   "execution_count": 13,
   "metadata": {},
   "outputs": [],
   "source": [
    "from sklearn.metrics import r2_score\n",
    "from sklearn.metrics import precision_score\n",
    "from sklearn.metrics import recall_score\n",
    "from sklearn.metrics import f1_score\n",
    "from sklearn.metrics import confusion_matrix\n",
    "\n",
    "# function to fit and evaluate a model\n",
    "\n",
    "def build_eval_model(X_train_treated, X_test_treated, y_train, y_test, model, decimals=5):\n",
    "    # predict y_test\n",
    "    model = model.fit(X_train_treated, y_train)\n",
    "    pred = model.predict(X_test_treated)\n",
    "    \n",
    "    # evaluate predictions\n",
    "    print(\n",
    "        \"accuracy:\", round(model.score(X_test_treated, y_test),decimals), \n",
    "        \"  r2:\", round(r2_score(y_test, pred),decimals), \n",
    "        \"  precision:\", round(precision_score(y_test, pred),decimals), \n",
    "        \"  recall:\", round(recall_score(y_test, pred),decimals), \n",
    "        \"  f1:\", round(f1_score(y_test, pred),decimals), \"\\n\"\n",
    "        )\n",
    "    print(pd.DataFrame(confusion_matrix(y_test, pred)), end='')"
   ]
  },
  {
   "cell_type": "code",
   "execution_count": 14,
   "metadata": {},
   "outputs": [],
   "source": [
    "from sklearn.utils import resample\n",
    "\n",
    "# function for manually resampling to a size between a majority and a minority (only 2 targets possible)\n",
    "\n",
    "def resample_treated(X_train_treated, X_test_treated, y_train, y_test, resample_size, over=1, under=0, show_dists=False):\n",
    "    # concat back input and target of training data\n",
    "    train_data = pd.concat([X_train_treated, y_train], axis=1)\n",
    "\n",
    "    # split majority/minority \n",
    "    category_0 = train_data[train_data[y_train.name] == under]\n",
    "    category_1 = train_data[train_data[y_train.name] == over]\n",
    "\n",
    "    # resample the classes\n",
    "    category_0_undersampled = resample(category_0, replace=False, n_samples = resample_size)\n",
    "    category_1_oversampled = resample(category_1, replace=True, n_samples = resample_size)\n",
    "\n",
    "    # concat majority/minority back together\n",
    "    train_data = pd.concat([category_0_undersampled, category_1_oversampled], axis=0)\n",
    "\n",
    "    # split input and target\n",
    "    X_train_resampled = train_data.drop([y_train.name], axis=1)\n",
    "    y_train_resampled = train_data[y_train.name]\n",
    "\n",
    "    # show information if flag is set to True\n",
    "    if show_dists:\n",
    "        print(f'Resampled from: {y_train.value_counts()[0]}/{y_train.value_counts()[1]} to {resample_size}/{resample_size}')\n",
    "\n",
    "    return X_train_resampled, X_test_treated, y_train_resampled, y_test"
   ]
  },
  {
   "cell_type": "code",
   "execution_count": 15,
   "metadata": {},
   "outputs": [],
   "source": [
    "from imblearn.under_sampling import RandomUnderSampler\n",
    "from imblearn.over_sampling import SMOTE\n",
    "\n",
    "# function for automatic resampling using SMOTE and RandomUnderSampler (by default ending up with size of 0.5 of mayority)\n",
    "\n",
    "def smote_rnd_treated(X_train_treated, X_test_treated, y_train, y_test, smote_strat=0.5, rnd_strat=1.0, show_dists=False):\n",
    "    X_train_SMOTE,y_train_SMOTE = SMOTE(sampling_strategy=smote_strat).fit_resample(X_train_treated, y_train)\n",
    "    X_train_RND,y_train_RND = RandomUnderSampler(sampling_strategy=rnd_strat).fit_resample(X_train_SMOTE,y_train_SMOTE)\n",
    "\n",
    "    # show information if flag is set to True\n",
    "    if show_dists:\n",
    "        print(f'Resampled from: {y_train.value_counts()[0]}/{y_train.value_counts()[1]} to {y_train_RND.value_counts()[0]}/{y_train_RND.value_counts()[1]}')\n",
    "\n",
    "    return X_train_RND, X_test_treated, y_train_RND, y_test"
   ]
  },
  {
   "cell_type": "code",
   "execution_count": 16,
   "metadata": {},
   "outputs": [],
   "source": [
    "# read in data with different features\n",
    "\n",
    "cats = pd.read_csv('data/categorical.csv').astype(object)\n",
    "targets = pd.read_csv('data/target.csv')\n",
    "\n",
    "# create dict for X for different numericals, set target y\n",
    "X = {}\n",
    "y = targets['TARGET_B']\n",
    "\n",
    "for method in ['kbest', 'rfe', 'var', 'pca']:\n",
    "    X[method] = pd.concat([cats, pd.read_csv(f'data/{method}_nums.csv')], axis=1)"
   ]
  },
  {
   "cell_type": "code",
   "execution_count": 17,
   "metadata": {},
   "outputs": [],
   "source": [
    "from sklearn.linear_model import LogisticRegression\n",
    "from sklearn.neighbors import KNeighborsClassifier\n",
    "from sklearn.neural_network import MLPClassifier"
   ]
  },
  {
   "cell_type": "code",
   "execution_count": 18,
   "metadata": {},
   "outputs": [
    {
     "name": "stdout",
     "output_type": "stream",
     "text": [
      "#########################################  kbest  #########################################\n",
      "\n",
      "accuracy: 0.94739   r2: -0.05633   precision: 0.0   recall: 0.0   f1: 0.0 \n",
      "\n",
      "       0  1\n",
      "0  22598  1\n",
      "1   1254  0\n",
      "\n",
      "#########################################  rfe  #########################################\n",
      "\n",
      "accuracy: 0.94743   r2: -0.05549   precision: 0.0   recall: 0.0   f1: 0.0 \n",
      "\n",
      "       0  1\n",
      "0  22599  0\n",
      "1   1254  0\n",
      "\n",
      "#########################################  var  #########################################\n",
      "\n",
      "accuracy: 0.94743   r2: -0.05549   precision: 0.0   recall: 0.0   f1: 0.0 \n",
      "\n",
      "       0  1\n",
      "0  22599  0\n",
      "1   1254  0\n",
      "\n",
      "#########################################  pca  #########################################\n",
      "\n",
      "accuracy: 0.94743   r2: -0.05549   precision: 0.0   recall: 0.0   f1: 0.0 \n",
      "\n",
      "       0  1\n",
      "0  22599  0\n",
      "1   1254  0\n",
      "\n"
     ]
    }
   ],
   "source": [
    "# loop through the X with different features using unbalanced data\n",
    "\n",
    "for k in X:\n",
    "    print('######################################### ', k, ' #########################################\\n')\n",
    "    a,b,c,d = split_and_treat_data(X[k], y)\n",
    "\n",
    "    build_eval_model(a,b,c,d, LogisticRegression())\n",
    "    print()\n",
    "    print()"
   ]
  },
  {
   "cell_type": "code",
   "execution_count": 19,
   "metadata": {},
   "outputs": [
    {
     "name": "stdout",
     "output_type": "stream",
     "text": [
      "#########################################  kbest  #########################################\n",
      "\n",
      "accuracy: 0.61674   r2: -6.6948   precision: 0.06971   recall: 0.50957   f1: 0.12265 \n",
      "\n",
      "       0     1\n",
      "0  14072  8527\n",
      "1    615   639\t\t\tResampled from: 67970/3589 to 33985/33985\n",
      "\n",
      "#########################################  rfe  #########################################\n",
      "\n",
      "accuracy: 0.61854   r2: -6.65861   precision: 0.06843   recall: 0.49601   f1: 0.12027 \n",
      "\n",
      "       0     1\n",
      "0  14132  8467\n",
      "1    632   622\t\t\tResampled from: 67970/3589 to 33985/33985\n",
      "\n",
      "#########################################  var  #########################################\n",
      "\n",
      "accuracy: 0.61032   r2: -6.82358   precision: 0.06968   recall: 0.51914   f1: 0.12286 \n",
      "\n",
      "       0     1\n",
      "0  13907  8692\n",
      "1    603   651\t\t\tResampled from: 67970/3589 to 33985/33985\n",
      "\n",
      "#########################################  pca  #########################################\n",
      "\n",
      "accuracy: 0.61615   r2: -6.70659   precision: 0.06621   recall: 0.48086   f1: 0.11639 \n",
      "\n",
      "       0     1\n",
      "0  14094  8505\n",
      "1    651   603\t\t\tResampled from: 67970/3589 to 33985/33985\n",
      "\n"
     ]
    }
   ],
   "source": [
    "# loop through the X with different features \n",
    "# using balanced data (SMOTE/RandomUnder) and Logistic Regression\n",
    "\n",
    "for k in X:\n",
    "    print('######################################### ', k, ' #########################################\\n')\n",
    "    a,b,c,d = split_and_treat_data(X[k], y)\n",
    "    w,x,s,z = smote_rnd_treated(a,b,c,d)\n",
    "\n",
    "    build_eval_model(w,x,s,z, LogisticRegression())\n",
    "    print(f'\\t\\t\\tResampled from: {c.value_counts()[0]}/{c.value_counts()[1]} to {s.value_counts()[0]}/{s.value_counts()[1]}\\n')"
   ]
  },
  {
   "cell_type": "code",
   "execution_count": 26,
   "metadata": {},
   "outputs": [
    {
     "name": "stdout",
     "output_type": "stream",
     "text": [
      "#########################################  kbest  #########################################\n",
      "\n",
      "accuracy: 0.64185   r2: -6.19063   precision: 0.05894   recall: 0.38836   f1: 0.10234 \n",
      "\n",
      "       0     1\n",
      "0  14823  7776\n",
      "1    767   487\t\t\tResampled from: 67970/3589 to 20000/20000\n",
      "\n",
      "#########################################  rfe  #########################################\n",
      "\n",
      "accuracy: 0.64021   r2: -6.22345   precision: 0.05781   recall: 0.38198   f1: 0.10042 \n",
      "\n",
      "       0     1\n",
      "0  14792  7807\n",
      "1    775   479\t\t\tResampled from: 67970/3589 to 20000/20000\n",
      "\n",
      "#########################################  var  #########################################\n",
      "\n",
      "accuracy: 0.64554   r2: -6.11656   precision: 0.05936   recall: 0.38676   f1: 0.10292 \n",
      "\n",
      "       0     1\n",
      "0  14913  7686\n",
      "1    769   485\t\t\tResampled from: 67970/3589 to 20000/20000\n",
      "\n"
     ]
    }
   ],
   "source": [
    "# loop through the X with different features \n",
    "# using balanced data (manual resample) and KNeighborsClassifier\n",
    "\n",
    "size= 20000\n",
    "for k in X:\n",
    "    print('######################################### ', k, ' #########################################\\n')\n",
    "    a,b,c,d = split_and_treat_data(X[k], y)\n",
    "    treated_resampled = resample_treated(a,b,c,d, size)\n",
    "\n",
    "    build_eval_model(*treated_resampled, KNeighborsClassifier())\n",
    "    print(f'\\t\\t\\tResampled from: {c.value_counts()[0]}/{c.value_counts()[1]} to {size}/{size}\\n')"
   ]
  },
  {
   "cell_type": "code",
   "execution_count": 19,
   "metadata": {},
   "outputs": [
    {
     "name": "stdout",
     "output_type": "stream",
     "text": [
      "#########################################  kbest  #########################################\n",
      "\n",
      "accuracy: 0.86966   r2: -1.61684   precision: 0.07159   recall: 0.1236   f1: 0.09067 \n",
      "\n",
      "       0     1\n",
      "0  20589  2010\n",
      "1   1099   155\t\t\tResampled from: 67970/3589 to 33985/33985\n",
      "\n",
      "#########################################  rfe  #########################################\n",
      "\n",
      "accuracy: 0.87197   r2: -1.57055   precision: 0.07061   recall: 0.11802   f1: 0.08836 \n",
      "\n",
      "       0     1\n",
      "0  20651  1948\n",
      "1   1106   148\t\t\tResampled from: 67970/3589 to 33985/33985\n",
      "\n",
      "#########################################  var  #########################################\n",
      "\n",
      "accuracy: 0.87209   r2: -1.56802   precision: 0.06657   recall: 0.11005   f1: 0.08296 \n",
      "\n",
      "       0     1\n",
      "0  20664  1935\n",
      "1   1116   138\t\t\tResampled from: 67970/3589 to 33985/33985\n",
      "\n"
     ]
    }
   ],
   "source": [
    "# loop through the X with different features \n",
    "# using balanced data (SMOTE/RandomUnder) and MLPClassifier\n",
    "\n",
    "for k in X:\n",
    "    print('######################################### ', k, ' #########################################\\n')\n",
    "    a,b,c,d = split_and_treat_data(X[k], y)\n",
    "    w,x,s,z = smote_rnd_treated(a,b,c,d)\n",
    "\n",
    "    build_eval_model(w,x,s,z, MLPClassifier())\n",
    "    print(f'\\t\\t\\tResampled from: {c.value_counts()[0]}/{c.value_counts()[1]} to {s.value_counts()[0]}/{s.value_counts()[1]}\\n')"
   ]
  }
 ],
 "metadata": {
  "kernelspec": {
   "display_name": "Python 3",
   "language": "python",
   "name": "python3"
  },
  "language_info": {
   "codemirror_mode": {
    "name": "ipython",
    "version": 3
   },
   "file_extension": ".py",
   "mimetype": "text/x-python",
   "name": "python",
   "nbconvert_exporter": "python",
   "pygments_lexer": "ipython3",
   "version": "3.10.6"
  },
  "orig_nbformat": 4,
  "vscode": {
   "interpreter": {
    "hash": "e7370f93d1d0cde622a1f8e1c04877d8463912d04d973331ad4851f04de6915a"
   }
  }
 },
 "nbformat": 4,
 "nbformat_minor": 2
}
